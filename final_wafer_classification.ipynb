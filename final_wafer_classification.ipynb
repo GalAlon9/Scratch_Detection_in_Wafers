{
 "cells": [
  {
   "attachments": {},
   "cell_type": "markdown",
   "metadata": {},
   "source": [
    "Here I preform classification at the wafer level. \n",
    "I transfer the data set to a format that works with this task, I do this by making each example x in X to be a 1D array of size without the WaferName and the corresponding y, if the wafer is defective or not."
   ]
  },
  {
   "attachments": {},
   "cell_type": "markdown",
   "metadata": {},
   "source": [
    "Utility functions"
   ]
  },
  {
   "cell_type": "code",
   "execution_count": 19,
   "metadata": {},
   "outputs": [],
   "source": [
    "# Here we will prepare the data for training by padding the wafers to be the same size, and \n",
    "\n",
    "def prepare_data_for_train(df_wafers):\n",
    "    import numpy as np\n",
    "\n",
    "    wafer_names = df_wafers['WaferName'].unique()\n",
    "    wafer_groups = df_wafers.groupby('WaferName')\n",
    "    df_wafers_split = [wafer_groups.get_group(wafer) for wafer in wafer_names]\n",
    "\n",
    "    X = [df_wafers_split[i].drop(['WaferName','IsScratchDie'], axis=1) for i in range(len(df_wafers_split))]\n",
    "    y = [df_wafers_split[i]['IsScratchDie'].any() for i in range(len(df_wafers_split))]\n",
    "\n",
    "\n",
    "    #change the IsGoodDie column to 0 and 1 in X and the same for IsScratchDie in y\n",
    "    y = [1 if i == True else 0 for i in y]\n",
    "    X = [X[i].replace({'IsGoodDie': {True: 1, False: 0}}) for i in range(len(X))]\n",
    "\n",
    "    #pudding\n",
    "    wafer_size = [X[i].shape[0] for i in range(len(X))]\n",
    "\n",
    "    #the wafers are not all the same size, so we need to pad the smaller ones with 0s rows\n",
    "\n",
    "    max_size = max(wafer_size)\n",
    "\n",
    "    X_padded = [X[i].append(pd.DataFrame(np.zeros((max_size - X[i].shape[0], X[i].shape[1])), columns=X[i].columns)) for i in range(len(X))]\n",
    "\n",
    "    X_flat = [X_padded[i].values.flatten() for i in range(len(X_padded))]\n",
    "\n",
    "    return X_flat, y\n",
    "\n",
    "\n",
    "def prepare_data_for_test(df_wafers_test):\n",
    "    import numpy as np\n",
    "\n",
    "    wafer_names = df_wafers['WaferName'].unique()\n",
    "    wafer_groups = df_wafers.groupby('WaferName')\n",
    "    df_wafers_split = [wafer_groups.get_group(wafer) for wafer in wafer_names]\n",
    "\n",
    "    X = [df_wafers_split[i].drop(['WaferName'], axis=1) for i in range(len(df_wafers_split))]\n",
    "\n",
    "\n",
    "    #change the IsGoodDie column to 0 and 1 in X and the same for IsScratchDie in y\n",
    "    X = [X[i].replace({'IsGoodDie': {True: 1, False: 0}}) for i in range(len(X))]\n",
    "\n",
    "    #pudding\n",
    "    wafer_size = [X[i].shape[0] for i in range(len(X))]\n",
    "\n",
    "    #the wafers are not all the same size, so we need to pad the smaller ones with 0s rows\n",
    "\n",
    "    max_size = max(wafer_size)\n",
    "\n",
    "    X_padded = [X[i].append(pd.DataFrame(np.zeros((max_size - X[i].shape[0], X[i].shape[1])), columns=X[i].columns)) for i in range(len(X))]\n",
    "\n",
    "    X_flat = [X_padded[i].values.flatten() for i in range(len(X_padded))]\n",
    "\n",
    "    return X_flat\n",
    "\n",
    "    \n",
    "def train_model1(X, y):\n",
    "    from sklearn.ensemble import RandomForestClassifier\n",
    "    from sklearn.model_selection import train_test_split\n",
    "\n",
    "    X_train, X_test, y_train, y_test = train_test_split(X, y, test_size=0.2, random_state=42)\n",
    "\n",
    "    rf = RandomForestClassifier(n_estimators=100, max_depth=2, random_state=42)\n",
    "\n",
    "    rf.fit(X_train, y_train)\n",
    "\n",
    "    predictions = rf.predict(X_test)\n",
    "\n",
    "    return rf, predictions, y_test\n",
    "\n",
    "\n",
    "   \n",
    "def plt_confusion_matrix(y_test, y_pred):\n",
    "    cm = confusion_matrix(y_test, y_pred)\n",
    "    sns.heatmap(cm, annot=True, fmt='d')\n",
    "    plt.title('Confusion matrix')\n",
    "    plt.ylabel('True label')\n",
    "    plt.xlabel('Predicted label')\n",
    "    plt.show()\n",
    "\n",
    "def check_train_preds(predictions, y_test):\n",
    "    from sklearn.metrics import accuracy_score\n",
    "    from sklearn.metrics import confusion_matrix\n",
    "\n",
    "    print('Accuracy: ', accuracy_score(y_test, predictions))\n",
    "    print('Confusion Matrix: ', confusion_matrix(y_test, predictions))\n"
   ]
  },
  {
   "attachments": {},
   "cell_type": "markdown",
   "metadata": {},
   "source": [
    "MAIN CODE"
   ]
  },
  {
   "cell_type": "code",
   "execution_count": 16,
   "metadata": {},
   "outputs": [
    {
     "name": "stdout",
     "output_type": "stream",
     "text": [
      "Loading data...\n",
      "Preparing data for training...\n",
      "Training model...\n",
      "Accuracy:  0.9228316326530612\n",
      "Confusion Matrix:  [[747  30]\n",
      " [ 91 700]]\n"
     ]
    }
   ],
   "source": [
    "import pandas as pd\n",
    "import zipfile\n",
    "\n",
    "print('Loading data...')\n",
    "#load zip file\n",
    "zf = zipfile.ZipFile('data.zip') \n",
    "#load train data\n",
    "df_wafers = pd.read_csv(zf.open('df_wafers.csv'))\n",
    "\n",
    "#load test data\n",
    "df_wafers_test = pd.read_csv(zf.open('df_wafers_test.csv'))\n",
    "\n",
    "import warnings\n",
    "warnings.filterwarnings('ignore')\n",
    "\n",
    "print('Preparing data for training...')\n",
    "X, y = prepare_data_for_train(df_wafers)\n",
    "\n",
    "print('Training model...')\n",
    "rf, predictions, y_test = train_model1(X, y)\n",
    "\n",
    "check_train_preds(predictions, y_test)\n",
    "\n",
    "\n"
   ]
  }
 ],
 "metadata": {
  "kernelspec": {
   "display_name": "base",
   "language": "python",
   "name": "python3"
  },
  "language_info": {
   "codemirror_mode": {
    "name": "ipython",
    "version": 3
   },
   "file_extension": ".py",
   "mimetype": "text/x-python",
   "name": "python",
   "nbconvert_exporter": "python",
   "pygments_lexer": "ipython3",
   "version": "3.10.9"
  },
  "orig_nbformat": 4
 },
 "nbformat": 4,
 "nbformat_minor": 2
}
