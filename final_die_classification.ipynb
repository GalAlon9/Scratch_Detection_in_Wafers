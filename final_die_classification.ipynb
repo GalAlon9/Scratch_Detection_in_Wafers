{
 "cells": [
  {
   "attachments": {},
   "cell_type": "markdown",
   "metadata": {},
   "source": [
    "Utility functions"
   ]
  },
  {
   "cell_type": "code",
   "execution_count": 14,
   "metadata": {},
   "outputs": [],
   "source": [
    "def prepare_data_for_train(df_wafers,load = False,save = False,path = 'rectangles_r7.pkl.npy',radius = 7):\n",
    "    wafer_groups = df_wafers.groupby('WaferName')\n",
    "    wafer_names = df_wafers['WaferName'].unique()\n",
    "\n",
    "    df_wafers_split = [wafer_groups.get_group(wafer) for wafer in wafer_names]\n",
    "\n",
    "    wafers_matrix = [wafer_to_matrix(wafer) for wafer in df_wafers_split]\n",
    "    wafers_label_matrix = [wafer_to_label_matrix(wafer) for wafer in df_wafers_split]\n",
    "    y = wafers_label_matrix.copy()\n",
    "\n",
    "    #flatten the matrix to a vector and concatenate all the vectors into a single vector\n",
    "    y_flat = [y_i.flatten() for y_i in y]\n",
    "    y_flat = np.concatenate(y_flat)\n",
    "    y_flat = y_flat.astype(np.int8)\n",
    "\n",
    "    if load:\n",
    "        rectangles = np.load(path)\n",
    "    else:\n",
    "        rectangles = extract_rectangles(wafers_matrix, radius)\n",
    "\n",
    "    if save:\n",
    "        np.save(path,rectangles)\n",
    "\n",
    "    return rectangles,y_flat\n",
    "\n",
    "\n",
    "# take each wafer and convert it to a matrix with the same dimensions as the original image where each pixel is 0 or 1 depending on whether it is IsGoodDie or not\n",
    "def wafer_to_matrix(wafer):\n",
    "    # wafer_matrix = np.zeros((wafer['DieX'].max()+1, wafer['DieY'].max()+1))\n",
    "    # create an array of the same size as the wafer matrix but with the data type int8 and -1 as the default value\n",
    "    wafer_matrix = np.full((wafer['DieX'].max()+1, wafer['DieY'].max()+1), -1, dtype=np.int8)\n",
    "    wafer_matrix = np.array(wafer_matrix, dtype=np.int8)\n",
    "    die_x = wafer['DieX'].values \n",
    "    die_y = wafer['DieY'].values \n",
    "    is_good_die = wafer['IsGoodDie'].values\n",
    "    wafer_matrix[die_x, die_y] = is_good_die\n",
    "    return wafer_matrix\n",
    "\n",
    "\n",
    "# y is the IsScratchDie for each die in the wafer if the (x,y) is in the wafer then the label is taken from the IsScratchDie column otherwise it is 0\n",
    "\n",
    "def wafer_to_label_matrix(wafer):\n",
    "    wafer_matrix = np.zeros((wafer['DieX'].max()+1, wafer['DieY'].max()+1))\n",
    "    die_x = wafer['DieX'].values \n",
    "    die_y = wafer['DieY'].values \n",
    "    is_scratch_die = wafer['IsScratchDie'].values\n",
    "    wafer_matrix[die_x, die_y] = is_scratch_die.astype(np.int8)\n",
    "    return wafer_matrix\n",
    "\n",
    "\n",
    "from tqdm import tqdm\n",
    "\n",
    "def extract_rectangles(matrix_list, A):\n",
    "    all_rectangles = []\n",
    "    for matrix in tqdm(matrix_list):\n",
    "        \n",
    "        padded_matrix = np.pad(matrix, pad_width=((A // 2, A // 2), (A // 2, A // 2)), mode='constant', constant_values=0)\n",
    "        rows, cols = matrix.shape\n",
    "        shape = (rows, cols, A, A)\n",
    "        strides = padded_matrix.strides + padded_matrix.strides\n",
    "        window_view = np.lib.stride_tricks.as_strided(padded_matrix, shape=shape, strides=strides)\n",
    "        flattened_windows = window_view.reshape((-1, A*A)).astype(np.int8)\n",
    "        all_rectangles.extend(flattened_windows.tolist())\n",
    "    return all_rectangles\n",
    "\n",
    "\n",
    "import numpy as np\n",
    "from collections import Counter\n",
    "\n",
    "def under_sample(X, y):\n",
    "    # assuming X is your feature matrix and y is your target variable\n",
    "    # where y is 0.02 for the minority class and 0 for the majority class\n",
    "\n",
    "    # get indices of minority and majority class samples\n",
    "    minority_indices = np.where(y == 1)[0]\n",
    "    majority_indices = np.where(y == 0)[0]\n",
    "\n",
    "    # determine size of minority class\n",
    "    minority_size = len(minority_indices)\n",
    "\n",
    "    # randomly sample majority class\n",
    "    random_majority_indices = np.random.choice(majority_indices, minority_size, replace=False)\n",
    "\n",
    "    # concatenate minority class indices with randomly sampled majority class indices\n",
    "    undersampled_indices = np.concatenate([minority_indices, random_majority_indices])\n",
    "\n",
    "    # extract undersampled feature matrix and target variable\n",
    "    X_undersampled = X[undersampled_indices, :]\n",
    "    y_undersampled = y[undersampled_indices]\n",
    "\n",
    "    return X_undersampled, y_undersampled\n",
    "\n",
    "\n",
    "def train_model(X,y):\n",
    "    from sklearn.model_selection import train_test_split\n",
    "    import lightgbm as lgb\n",
    "    from sklearn.metrics import accuracy_score\n",
    "\n",
    "\n",
    "    X_train, X_test, y_train, y_test = train_test_split(X, y, test_size=0.1, random_state=42)\n",
    "\n",
    "    X_train = np.array(X_train).astype(np.int8)\n",
    "    y_train = np.array(y_train).astype(np.int8)\n",
    "\n",
    "    X_train, y_train = under_sample(X_train, y_train)\n",
    "    \n",
    "    d_train = lgb.Dataset(X_train, label=y_train)\n",
    "    d_test = lgb.Dataset(X_test, label=y_test)\n",
    "\n",
    "    params = {\n",
    "        'objective': 'binary',\n",
    "        'metric': 'binary_logloss',\n",
    "        'num_leaves': 31,\n",
    "        'learning_rate': 0.1,\n",
    "        'max_depth': -1,\n",
    "        'min_child_samples': 20,\n",
    "        'feature_fraction': 0.8,\n",
    "        'bagging_fraction': 0.8,\n",
    "        'bagging_freq': 5\n",
    "    }\n",
    "\n",
    "    clf = lgb.train(params, d_train, 100)\n",
    "\n",
    "    y_pred=clf.predict(X_test)\n",
    "\n",
    "    y_pred[y_pred>=0.5] = 1\n",
    "    y_pred[y_pred<0.5] = 0\n",
    "\n",
    "    print('Accuracy: ', accuracy_score(y_test, y_pred))\n",
    "\n",
    "    return y_test, y_pred, clf\n",
    "\n",
    "def test_model(clf,df_wafers_test,radius = 7):\n",
    "    wafer_groups_test = df_wafers_test.groupby('WaferName')\n",
    "    wafer_names_test = df_wafers_test['WaferName'].unique()\n",
    "\n",
    "    df_wafers_split_test = [wafer_groups_test.get_group(wafer) for wafer in wafer_names_test]\n",
    "    test_matrixs = [wafer_to_matrix(wafer) for wafer in df_wafers_split_test]\n",
    "\n",
    "    test_rectangles = extract_rectangles(test_matrixs,radius)\n",
    "\n",
    "    test_predictions = clf.predict(test_rectangles)\n",
    "\n",
    "    test_predictions [test_predictions>0.5] = 1\n",
    "    test_predictions [test_predictions<=0.5] = 0\n",
    "\n",
    "    trimmed_predictions = remove_non_die_predictions(test_predictions,test_rectangles)\n",
    "\n",
    "\n",
    "    return trimmed_predictions\n",
    "\n",
    "\n",
    "\n",
    "def plt_confusion_matrix(y_test, y_pred):\n",
    "    from sklearn.metrics import confusion_matrix\n",
    "    import seaborn as sns\n",
    "    import matplotlib.pyplot as plt\n",
    "    \n",
    "    \n",
    "    cm = confusion_matrix(y_test, y_pred)\n",
    "    sns.heatmap(cm, annot=True, fmt='d')\n",
    "    plt.title('Confusion matrix')\n",
    "    plt.ylabel('True label')\n",
    "    plt.xlabel('Predicted label')\n",
    "    plt.show()\n",
    "\n",
    "\n",
    "def trim_edges(predictions,origin):\n",
    "\n",
    "    trimmed_predictions =  predictions.copy()\n",
    "\n",
    "    for i in range(len(predictions)):\n",
    "        dim = predictions[i].shape\n",
    "        # dim is (n,n) create array of (x,y) coordinates of the n*n grid\n",
    "        coords = np.array(np.meshgrid(range(dim[0]), range(dim[1]))).T.reshape(-1,2)\n",
    "        for coord in coords:\n",
    "            # if the example[i] has (DieX, DieY) coordinates equal to the coord then keep the prediction else set it to -1\n",
    "            if not any((origin[i]['DieX'] == coord[0]) & (origin[i]['DieY'] == coord[1])):\n",
    "                trimmed_predictions[i][coord[0]][coord[1]] = -1\n",
    "\n",
    "\n",
    "    return trimmed_predictions\n",
    "\n",
    "\n",
    "def remove_non_die_predictions(predictions,origin):\n",
    "    #if at test_rectangles[i][24] (the center of the rectangle) the val is -1 then remove the prediction\n",
    "    trimmed_predictions =  []\n",
    "    for i in range(len(predictions)):\n",
    "        if origin[i][24] != -1:\n",
    "            trimmed_predictions.append(predictions[i])\n",
    "    return trimmed_predictions\n",
    "\n"
   ]
  },
  {
   "attachments": {},
   "cell_type": "markdown",
   "metadata": {},
   "source": [
    "MAIN code"
   ]
  },
  {
   "cell_type": "code",
   "execution_count": 6,
   "metadata": {},
   "outputs": [
    {
     "name": "stdout",
     "output_type": "stream",
     "text": [
      "Loading data...\n"
     ]
    }
   ],
   "source": [
    "import pandas as pd\n",
    "import zipfile\n",
    "\n",
    "print('Loading data...')\n",
    "#load zip file\n",
    "zf = zipfile.ZipFile('data.zip') \n",
    "#load train data\n",
    "df_wafers = pd.read_csv(zf.open('df_wafers.csv'))\n",
    "\n",
    "#load test data\n",
    "df_wafers_test = pd.read_csv(zf.open('df_wafers_test.csv'))"
   ]
  },
  {
   "cell_type": "code",
   "execution_count": 7,
   "metadata": {},
   "outputs": [
    {
     "name": "stdout",
     "output_type": "stream",
     "text": [
      "Preparing data...\n"
     ]
    },
    {
     "name": "stderr",
     "output_type": "stream",
     "text": [
      "100%|██████████| 3920/3920 [00:59<00:00, 65.35it/s] \n"
     ]
    }
   ],
   "source": [
    "radius = 7\n",
    "print('Preparing data...')\n",
    "X,y = prepare_data_for_train(df_wafers,radius = radius)"
   ]
  },
  {
   "cell_type": "code",
   "execution_count": 15,
   "metadata": {},
   "outputs": [
    {
     "name": "stdout",
     "output_type": "stream",
     "text": [
      "Training model...\n",
      "[LightGBM] [Info] Number of positive: 70793, number of negative: 70793\n",
      "[LightGBM] [Warning] Auto-choosing row-wise multi-threading, the overhead of testing was 0.034892 seconds.\n",
      "You can set `force_row_wise=true` to remove the overhead.\n",
      "And if memory is not enough, you can set `force_col_wise=true`.\n",
      "[LightGBM] [Info] Total Bins 147\n",
      "[LightGBM] [Info] Number of data points in the train set: 141586, number of used features: 49\n",
      "[LightGBM] [Info] [binary:BoostFromScore]: pavg=0.500000 -> initscore=0.000000\n",
      "Accuracy:  0.931610591234415\n"
     ]
    },
    {
     "data": {
      "image/png": "[encoded data removed]",
      "text/plain": [
       "<Figure size 640x480 with 2 Axes>"
      ]
     },
     "metadata": {},
     "output_type": "display_data"
    }
   ],
   "source": [
    "print('Training model...')\n",
    "y_test, y_pred, clf = train_model(X,y)\n",
    "\n",
    "plt_confusion_matrix(y_test, y_pred)"
   ]
  },
  {
   "cell_type": "code",
   "execution_count": 16,
   "metadata": {},
   "outputs": [
    {
     "name": "stdout",
     "output_type": "stream",
     "text": [
      "Testing model...\n"
     ]
    },
    {
     "name": "stderr",
     "output_type": "stream",
     "text": [
      "100%|██████████| 439/439 [00:21<00:00, 20.46it/s] \n"
     ]
    }
   ],
   "source": [
    "print('Testing model...')\n",
    "predictions = test_model(clf,df_wafers_test,radius = radius)\n",
    "\n",
    "#save predictions\n",
    "df_predictions = pd.DataFrame(predictions)"
   ]
  },
  {
   "cell_type": "code",
   "execution_count": 19,
   "metadata": {},
   "outputs": [],
   "source": [
    "df_predictions.to_csv('predictions.csv',index=False)"
   ]
  }
 ],
 "metadata": {
  "kernelspec": {
   "display_name": "base",
   "language": "python",
   "name": "python3"
  },
  "language_info": {
   "codemirror_mode": {
    "name": "ipython",
    "version": 3
   },
   "file_extension": ".py",
   "mimetype": "text/x-python",
   "name": "python",
   "nbconvert_exporter": "python",
   "pygments_lexer": "ipython3",
   "version": "3.10.9"
  },
  "orig_nbformat": 4
 },
 "nbformat": 4,
 "nbformat_minor": 2
}
